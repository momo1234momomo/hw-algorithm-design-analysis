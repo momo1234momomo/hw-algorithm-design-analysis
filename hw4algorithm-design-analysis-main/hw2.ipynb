{
 "cells": [
  {
   "cell_type": "markdown",
   "metadata": {},
   "source": [
    "## algorithm design and anlysis-2025 spring  homework 2\n",
    "**Deadline**：2025.5.14\n",
    "\n",
    "**name**:\n",
    "\n",
    "\n",
    "note：\n",
    "---\n",
    "1. 带有\\*的题目，申请免上课的同学，必须完成，其他同学选作；\n",
    "2. 请独立完成，如求助了他人或者大模型，请著明，并且不可省略算法分析部分；\n",
    "4. 如若作答有雷同，全部取消成绩；\n",
    "3. 需要书面作答的题目，可以通过引用图片的形式添加，但是注意上传项目时包含所引用的图片的源文件；\n",
    "4. $log_n$ 默认表示$log_2{n}$;"
   ]
  },
  {
   "cell_type": "markdown",
   "metadata": {},
   "source": [
    "## 问题 1  \n",
    "\n",
    "> 给定一个已排序的链表的头 `head` ， *删除所有重复的元素，使每个元素只出现一次* 。返回 *已排序的链表* 。链表的类如下所示：\n",
    "\n",
    "```python\n",
    "class NodeList:\n",
    "    def __init__(self, val=None, right=None):\n",
    "        self.val   = val\n",
    "        self.right = right\n",
    "```\n",
    "\n",
    "输入是一个数组，你首先需要将数组转化为链表，然后删除链表中的重复元素，再遍历链表元素，以一个数组的形式返回。请设计一个算法解决上述任务，分析算法设计思路，计算时间复杂度, 并基于python编程实现。\n",
    "\n",
    "e.g.  输入：head=[1, 1, 2, 3, 3]   输出：[1, 2, 3]\n",
    "\n",
    "![image-20240502110020439](./fig/hw2q1.png)\n",
    "\n"
   ]
  },
  {
   "cell_type": "markdown",
   "metadata": {},
   "source": [
    "idea："
   ]
  },
  {
   "cell_type": "code",
   "metadata": {
    "ExecuteTime": {
     "end_time": "2025-05-13T06:35:22.549775Z",
     "start_time": "2025-05-13T06:35:22.543796Z"
    }
   },
   "source": [
    "# add your idea here\n",
    "# your algorithm time complexity is:\n",
    "\"\"\"\n",
    "算法思路：\n",
    "创建一个空列表result用来存储链表中不重复的元素值，接着用一个指针从头节点开始遍历链表。对于每个节点，若其值不等于result的最后一个元素，则将其添加到result中。\n",
    "\n",
    "时间复杂度：\n",
    "遍历整个链表一次，时间复杂度为O(n)。\n",
    "\"\"\"\n",
    "class ListNode(object):\n",
    "    def __init__(self, val=0, next=None):\n",
    "        self.val = val\n",
    "        self.next = next\n",
    "\n",
    "class Solution(object):\n",
    "    def deleteDuplicates(self, head):\n",
    "        result = []\n",
    "        current = head\n",
    "\n",
    "        while current:\n",
    "            if not result or current.val != result[-1]:\n",
    "                result.append(current.val)\n",
    "            current = current.next\n",
    "\n",
    "        return result\n",
    "\n",
    "head = ListNode(1)\n",
    "head.next = ListNode(1)\n",
    "head.next.next = ListNode(2)\n",
    "head.next.next.next = ListNode(3)\n",
    "head.next.next.next.next = ListNode(3)\n",
    "\n",
    "solution = Solution()\n",
    "print(solution.deleteDuplicates(head))"
   ],
   "outputs": [
    {
     "name": "stdout",
     "output_type": "stream",
     "text": [
      "[1, 2, 3]\n"
     ]
    }
   ],
   "execution_count": 6
  },
  {
   "cell_type": "markdown",
   "metadata": {},
   "source": [
    "## 问题 2  \n",
    "\n",
    "> 下面是一个经典的算法问题：\n",
    ">\n",
    "> - 给定包含n个整数的一个整数数组 `nums` 和一个整数目标值 `target`，请你在该数组中找出 **和为目标值** *`target`* 的那 **两个** 整数，并返回它们的**数组下标**。假设每种输入只会对应一个答案。但是，数组中同一个元素在答案里不能重复出现。你可以按任意顺序返回答案。\n",
    ">\n",
    "> 由于要多次查找数组中元素的位置，为了提高查询效率可以使用哈希表来存储数组中的数据，在哈希表中查询一个元素的复杂度为O(1)。 已知python中的字典是使用哈希表实现的，即使用`dict[key]`查询对应的value时间复杂度为O(1), python提供了查询字典是否包含某个key的功能：`key in dict`，时间复杂度也是O(1)\n",
    "\n",
    "请根据上面信息，设计一个时间复杂度为O(n) 的算法，解决上述算法问题\n",
    "\n",
    "e.g.   \n",
    "\n",
    "输入：nums=[2,7,11,15], target=9， 输出：[0，1]\n",
    "\n",
    "输入：nums=[3,2,4], target=6, 输出：[1,2]\n",
    "\n",
    "输入：nums=[3,3], target=6,  输出：[0,1]\n"
   ]
  },
  {
   "cell_type": "code",
   "metadata": {
    "ExecuteTime": {
     "end_time": "2025-05-13T06:35:25.563224Z",
     "start_time": "2025-05-13T06:35:25.557761Z"
    }
   },
   "source": [
    "# add your idea here\n",
    "# your algorithm time complexity is: O(n)\n",
    "\"\"\"\n",
    "算法思路：\n",
    "使用哈希表来存储数组中的每个元素及其索引。这样可以在O(1)时间内检查目标值是否存在于数组中，并获取其索引。然后遍历哈希表来找到所有满足条件的索引对。\n",
    "\n",
    "时间复杂度：\n",
    "遍历长度为n的数组一次，将每个元素及其索引存储在哈希表中，因此时间复杂度是O(n)。\n",
    "\"\"\"\n",
    "def twoSum(nums, target):\n",
    "    num_dict = {}\n",
    "    for i, num in enumerate(nums):\n",
    "        b = target - num\n",
    "        if b in num_dict:\n",
    "            return [num_dict[b], i]\n",
    "        num_dict[num] = i\n",
    "print(twoSum([2, 7, 11, 15], 9))\n",
    "print(twoSum([3, 2, 4], 6))\n",
    "print(twoSum([3, 3], 6))"
   ],
   "outputs": [
    {
     "name": "stdout",
     "output_type": "stream",
     "text": [
      "[0, 1]\n",
      "[1, 2]\n",
      "[0, 1]\n"
     ]
    }
   ],
   "execution_count": 7
  },
  {
   "cell_type": "markdown",
   "metadata": {},
   "source": [
    "## 问题 3:   \n",
    "\n",
    "> 栈是一种常用的数据结构，编译器中通常使用栈来实现表达式求值。\n",
    ">\n",
    "> 以表达式 $3+5 \\times 8-6$​ 为例。编译器使用两个栈来完成运算，即一个栈保持操作数，另一个栈保存运算符。\n",
    ">\n",
    "> 1. 从左向右遍历表达式，遇到数字就压入操作数栈；\n",
    ">\n",
    "> 2. 遇到运算符，就与运算符栈的栈顶元素进行比较。如果比运算符栈顶元素的优先级高，就将当前运算符压入栈；如果比运算符栈顶元素的优先级低或者相同，从运算符栈中取栈顶运算符，从操作数栈的栈顶取 2 个操作数，然后进行计算，再把计算完的结果压入操作数栈，继续比较。\n",
    ">\n",
    "> 下图是 $3+5 \\times 8-6$  这个表达式的计算过程：\n",
    "\n",
    "![figure](./fig/hw2q3.png)\n",
    "\n",
    "根据上述原理，请设计一个算法完成表达式的运算，当输入为表达式字符串，返回对应的计算结果。分析算法设计思路，计算时间复杂度，并基于python编程实现\n",
    "\n",
    "**note：**\n",
    "\n",
    "1. 假设输入的表达式只会出现加（“+”），减 “-”， 乘“*”，除 “/” 四个运算符, 表达式中只会出现正整数\n",
    "2. python中` str.isdigit()`函数可以判断字符串str是否为数字，\n",
    "\n",
    "\n",
    "\n",
    "e.g. :\n",
    "---\n",
    "\n",
    "1. 输入：“$3+5 * 8 -6$”   输出：37\n",
    "\n",
    "2. 输入：“$34+13*9 + 44-12/3$”  输出：191"
   ]
  },
  {
   "cell_type": "markdown",
   "metadata": {},
   "source": [
    "idea："
   ]
  },
  {
   "cell_type": "code",
   "metadata": {
    "ExecuteTime": {
     "end_time": "2025-05-13T06:35:28.622613Z",
     "start_time": "2025-05-13T06:35:28.616407Z"
    }
   },
   "source": [
    "# add your idea here\n",
    "# your algorithm time complexity is:\n",
    "\"\"\"\n",
    "算法思路：\n",
    "使用两个栈：一个用于存储操作数，另一个用于存储运算符。遍历表达式中的每个字符，是数字则将其压入操作数栈；如果是运算符，则从操作数栈中弹出两个操作数并从运算符栈中弹出一个运算符，执行运算并将结果压入操作数栈。遇到括号时，根据需要处理括号内的表达式。遍历完成后，操作数栈顶的元素即为表达式的计算结果。\n",
    "\n",
    "时间复杂度：\n",
    "需要遍历整个表达式一次，因此时间复杂度是O(n)，其中n是表达式的长度。\n",
    "\"\"\"\n",
    "def calculate(expression):\n",
    "    num = []\n",
    "    op = []\n",
    "    current_num = 0\n",
    "    i = 0\n",
    "    while i < len(expression):\n",
    "        if expression[i].isdigit():\n",
    "            current_num = current_num * 10 + int(expression[i])\n",
    "        elif expression[i] in \"+-*/\":\n",
    "            num.append(current_num)\n",
    "            current_num = 0\n",
    "            while op and op[-1] in \"+-*/\" and precedence(op[-1], expression[i]):\n",
    "                num.append(apply_op(op.pop(), num.pop(), num.pop()))\n",
    "            op.append(expression[i])\n",
    "        elif expression[i] == ' ':\n",
    "            i += 1\n",
    "            continue\n",
    "        i += 1\n",
    "    num.append(current_num)\n",
    "    while op:\n",
    "        num.append(apply_op(op.pop(), num.pop(), num.pop()))\n",
    "    return num[0]\n",
    "\n",
    "def apply_op(op, b, a):\n",
    "    if op == '+':\n",
    "        return a + b\n",
    "    if op == '-':\n",
    "        return a - b\n",
    "    if op == '*':\n",
    "        return a * b\n",
    "    if op == '/':\n",
    "        return a // b\n",
    "\n",
    "def precedence(op1, op2):\n",
    "    if op1 == '(' or op2 == ')':\n",
    "        return False\n",
    "    if op1 == '*' or op1 == '/':\n",
    "        return True\n",
    "    if op2 == '*' or op2 == '/':\n",
    "        return False\n",
    "    return True\n",
    "\n",
    "expression = \"3+5*8-6\"\n",
    "print(calculate(expression))"
   ],
   "outputs": [
    {
     "name": "stdout",
     "output_type": "stream",
     "text": [
      "37\n"
     ]
    }
   ],
   "execution_count": 8
  },
  {
   "cell_type": "markdown",
   "metadata": {},
   "source": [
    "## 问题 4:  \n",
    "\n",
    "> 星球碰撞问题：现有n个星球，在同一条直线上运行，如数组A所示，元素的绝对值表示星球的质量，负数表示星球自右向左运动，正数表示星球自左向右运动，当两个星球相撞的时候，质量小的会消失，大的保持不变，**质量相同的两个星球碰撞后自右向左运动的星球消失，自左向右的星球保持不变**，假设所有星球的速度大小相同。\n",
    ">\n",
    "> $ A=[23,-8, 9, -3, -7, 9, -23, 22] $\n",
    "\n",
    "请设计一个算法模拟星球的运行情况，输出最终的星球存续情况（输出一个数组），分析算法设计思路，计算时间复杂度，并基于python编程实现。\n",
    "\n",
    "e.g.\n",
    "---\n",
    "1.  输入： A=[-3,-6,2,8, 5,-8,9,-2,1]， 输出：[-3, -6, 2, 8, 9, 1]\n",
    "\n",
    "2. 输入：A=[23,-8, 9, -3, -7, 9, -23, 22], 输出：[23, 22]\n",
    "\n"
   ]
  },
  {
   "metadata": {
    "ExecuteTime": {
     "end_time": "2025-05-13T06:35:33.930603Z",
     "start_time": "2025-05-13T06:35:33.924149Z"
    }
   },
   "cell_type": "code",
   "source": [
    "#answer：\n",
    "\"\"\"\n",
    "算法思路：\n",
    "这个问题可以用栈解决。栈用于存储当前向右运动的星球。遍历每个星球，对于每个向左运动的星球，与栈顶的星球进行比较。如果栈为空，或者栈顶的星球是向左运动的，直接将当前星球压入栈。如果栈顶的星球是向右运动的，大于：弹出栈顶星球，并继续比较下一个栈顶星球；等于：向左的星球消失，栈顶元素不变；小于：当前星球消失，不入栈。遍历完成后，栈中的星球即为最终存活的星球。\n",
    "\n",
    "时间复杂度：\n",
    "在最坏的情况下，每个向左运动的星球都可能与栈中的所有向右运动的星球进行比较，因此时间复杂度是O(n^2)，其中n是数组的长度。\n",
    "\"\"\"\n",
    "def bang_planets(A):\n",
    "    stack = []\n",
    "    for a in A:\n",
    "        collided = False\n",
    "        while stack and stack[-1] > 0 and a < 0:\n",
    "            if abs(stack[-1]) < abs(a):\n",
    "                stack.pop()\n",
    "                continue\n",
    "            elif abs(stack[-1]) == abs(a):\n",
    "                collided = True\n",
    "                break\n",
    "            else:\n",
    "                collided = True\n",
    "                break\n",
    "        if not collided:\n",
    "            stack.append(a)\n",
    "    return stack\n",
    "\n",
    "A1 = [-3, -6, 2, 8, 5, -8, 9, -2, 1]\n",
    "A2 = [23, -8, 9, -3, -7, 9, -23, 22]\n",
    "\n",
    "print(bang_planets(A1))\n",
    "print(bang_planets(A2))\n",
    "\n"
   ],
   "outputs": [
    {
     "name": "stdout",
     "output_type": "stream",
     "text": [
      "[-3, -6, 2, 8, 9, 1]\n",
      "[23, 22]\n"
     ]
    }
   ],
   "execution_count": 9
  },
  {
   "cell_type": "markdown",
   "metadata": {},
   "source": [
    "## 问题 5 \n",
    "\n",
    "> 给定一个无序数组nums=[9,-3,-10,0,9,7,33]，请建立一个二叉搜索树存储数组中的所有元素，之后删除二叉树中的元素“0”，再使用中序遍历输出二叉搜索树中的所有元素。\n",
    "\n",
    "使用python编程完成上述任务，并计算时间复杂度\n"
   ]
  },
  {
   "cell_type": "code",
   "metadata": {
    "ExecuteTime": {
     "end_time": "2025-05-13T06:35:38.362089Z",
     "start_time": "2025-05-13T06:35:38.353924Z"
    }
   },
   "source": [
    "# add your idea here\n",
    "# your algorithm time complexity is:\n",
    "\"\"\"\n",
    "算法设计思路：\n",
    "首先创建一个二叉搜索树，将给定数组的所有元素插入到二叉树中。再删除二叉树中值为0的节点。最后，通过中序遍历该二叉树，输出所有节点的值。\n",
    "\n",
    "时间复杂度计算：\n",
    "插入操作的时间复杂度为O(h)，删除操作的时间复杂度也为O(h)，h为树的高度。中序遍历的时间复杂度为O(n)，其中n为树中节点的数量。在最坏情况下，树的高度为n，所以总时间复杂度为O(n)。\n",
    "\"\"\"\n",
    "class TreeNode:\n",
    "    def __init__(self, val=0, left=None, right=None):\n",
    "        self.val = val\n",
    "        self.left = left\n",
    "        self.right = right\n",
    "\n",
    "def insert_bst(root, val):\n",
    "    if not root:\n",
    "        return TreeNode(val)\n",
    "    if val < root.val:\n",
    "        root.left = insert_bst(root.left, val)\n",
    "    else:\n",
    "        root.right = insert_bst(root.right, val)\n",
    "    return root\n",
    "\n",
    "def delete_node(root, key):\n",
    "    if not root:\n",
    "        return root\n",
    "    if key < root.val:\n",
    "        root.left = delete_node(root.left, key)\n",
    "    elif key > root.val:\n",
    "        root.right = delete_node(root.right, key)\n",
    "    else:\n",
    "        if not root.left:\n",
    "            return root.right\n",
    "        elif not root.right:\n",
    "            return root.left\n",
    "        min_larger_node = root.right\n",
    "        while min_larger_node.left:\n",
    "            min_larger_node = min_larger_node.left\n",
    "        root.val = min_larger_node.val\n",
    "        root.right = delete_node(root.right, min_larger_node.val)\n",
    "    return root\n",
    "\n",
    "def inorder_traversal(root):\n",
    "    result = []\n",
    "    if root:\n",
    "        result += inorder_traversal(root.left)\n",
    "        result.append(root.val)\n",
    "        result += inorder_traversal(root.right)\n",
    "    return result\n",
    "\n",
    "nums = [9, -3, -10, 0, 9, 7, 33]\n",
    "root = None\n",
    "for num in nums:\n",
    "    root = insert_bst(root, num)\n",
    "root = delete_node(root, 0)\n",
    "result = inorder_traversal(root)\n",
    "print(result)"
   ],
   "outputs": [
    {
     "name": "stdout",
     "output_type": "stream",
     "text": [
      "[-10, -3, 7, 9, 9, 33]\n"
     ]
    }
   ],
   "execution_count": 11
  },
  {
   "cell_type": "markdown",
   "metadata": {},
   "source": [
    "## 问题 6  \n",
    "\n",
    "> 给定一个包含大写字母和小写字母的字符串 s ，返回 字符串包含的 **最长的回文子串的长度** 。请注意 区分大小写 。比如 \"Aa\" 不能当做一个回文字符串。\n",
    ">\n",
    "\n",
    "请设计一个算法解决上述问题，只需要输出最长回文子串的长度，分析算法设计思路，计算时间复杂度，并基于python编程实现\n",
    "\n",
    "e.g. 输入： s=\"adccaccd\"，  输出：7。 最长回文子串为：\"dccaccd\", 长度为7\n"
   ]
  },
  {
   "cell_type": "markdown",
   "metadata": {},
   "source": [
    "idea："
   ]
  },
  {
   "cell_type": "code",
   "metadata": {
    "ExecuteTime": {
     "end_time": "2025-05-13T06:35:42.799907Z",
     "start_time": "2025-05-13T06:35:42.793034Z"
    }
   },
   "source": [
    "# add your idea here\n",
    "# your algorithm time complexity is:\n",
    "\"\"\"\n",
    "算法设计思路：\n",
    "使用动态规划，创建一个二维数组dp，其中dp[i][j]表示字符串s从索引i到j的子串是否为回文。检查所有可能的子串长度，从最短的子串开始，逐步增加长度，遍历所有子串。对于每个子串，如果首尾字符相同且中间部分也是回文，则该子串是回文，最后返回找到的最长回文子串的长度。\n",
    "\n",
    "时间复杂度计算：\n",
    "遍历所有可能的子串，每个子串需要O(1)的时间来检查是否为回文，总共有O(n^2)个子串，因此总的时间复杂度为O(n^2)。\n",
    "\"\"\"\n",
    "def longstr(s):\n",
    "    if len(s) < 2:\n",
    "        return s, 1\n",
    "    dp = [[False] * len(s) for _ in range(len(s))]\n",
    "    max_length = 1\n",
    "    start = 0\n",
    "    for i in range(len(s)):\n",
    "        dp[i][i] = True\n",
    "    for length in range(2, len(s) + 1):\n",
    "        for start in range(len(s) - length + 1):\n",
    "            end = start + length - 1\n",
    "            if s[start] == s[end] and (length == 2 or dp[start + 1][end - 1]):\n",
    "                dp[start][end] = True\n",
    "                if length > max_length:\n",
    "                    max_length = length\n",
    "                    start_index = start\n",
    "    return s[start_index:start_index + max_length], max_length\n",
    "\n",
    "s = \"adccaccd\"\n",
    "result, length = longstr(s)\n",
    "print(f\"最长回文子串为：\\\"{result}\\\", 长度为{length}\")"
   ],
   "outputs": [
    {
     "name": "stdout",
     "output_type": "stream",
     "text": [
      "最长回文子串为：\"dccaccd\", 长度为7\n"
     ]
    }
   ],
   "execution_count": 12
  },
  {
   "cell_type": "markdown",
   "metadata": {},
   "source": [
    "## 问题 7 \n",
    "\n",
    "> 沿一条长河流分散着n座房子。你可以把这条河想象成一条轴，房子是由它们在这条轴上的坐标按顺序排列的。你的公司想在河边的特定地点设置手机基站，这样每户人家都在距离基站4公里的范围内。输入可以看作为一个升序数组，数组元素的取值为大于等于0的正整数，你需要输出最小基站的数目，基站的位置。\n",
    "\n",
    "1. 给出一个时间复杂度为$O(n$) 的算法，使所使用的基站数量最小化，分析算法设计思路，使用python编程实现\n",
    "2. 证明1.中算法产生了最优解决方案。\n",
    "\n",
    "e.g. \n",
    "\n",
    "输入： [1, 5, 12, 33, 34,35]  输出：基站数目为3， 基站位置为[1，12，33]\n",
    "\n"
   ]
  },
  {
   "cell_type": "markdown",
   "metadata": {},
   "source": [
    "idea："
   ]
  },
  {
   "cell_type": "code",
   "metadata": {
    "ExecuteTime": {
     "end_time": "2025-05-13T06:35:45.816635Z",
     "start_time": "2025-05-13T06:35:45.811198Z"
    }
   },
   "source": [
    "# add your idea here\n",
    "# your algorithm time complexity is:\n",
    "\"\"\"\n",
    "算法设计思路：\n",
    "采用贪心算法策略，从最左侧的房子开始，在尽可能远的覆盖范围内设置基站。首先初始化基站位置列表和当前覆盖范围；遍历房屋坐标，当房屋不在当前基站覆盖范围内时，在该房屋右侧4公里处设置新基站；更新当前覆盖范围继续检查后续房屋。\n",
    "\n",
    "时间复杂度计算：\n",
    "该算法仅需一次线性遍历数组，每个房屋最多被处理一次，因此时间复杂度为O(n)。\n",
    "\"\"\"\n",
    "def base_station(houses):\n",
    "    if not houses:\n",
    "        return 0, []\n",
    "\n",
    "    stations = []\n",
    "    coverage = -1\n",
    "\n",
    "    for house in houses:\n",
    "        if house > coverage:\n",
    "            station = house + 4\n",
    "            stations.append(station)\n",
    "            coverage = station + 4\n",
    "\n",
    "    return len(stations), [s-4 for s in stations]\n",
    "\n",
    "houses = [1, 5, 12, 33, 34, 35]\n",
    "num, pos = base_station(houses)\n",
    "print(f\"基站数目为{num}，基站位置为{pos}\")"
   ],
   "outputs": [
    {
     "name": "stdout",
     "output_type": "stream",
     "text": [
      "基站数目为3，基站位置为[1, 12, 33]\n"
     ]
    }
   ],
   "execution_count": 13
  },
  {
   "cell_type": "markdown",
   "metadata": {},
   "source": [
    "## 问题 8  \n",
    "\n",
    "> 给定由n个正整数组成的一个集合$S = \\{a_1, a_2，···，a_n\\}$和一个正整数W，设计一个算法确定是否存在S的一个子集 $K \\subseteq S$, 使K中所有数之和为 $W$, 如果存在返回“True”，否则返回“False”\n",
    "\n",
    "请设计一个时间复杂度为$O(nW)$动态规划算法，解决上述问题，分析算法的设计思路，并且基于python编程实现（不需要输出子集）。\n",
    "\n",
    "e.g. \n",
    "\n",
    "输入：S = {1,4,7,3,5}， W = 11，输出：True。   因为K可以是{4,7}。\n",
    "\n"
   ]
  },
  {
   "cell_type": "markdown",
   "metadata": {},
   "source": [
    "idea："
   ]
  },
  {
   "cell_type": "code",
   "metadata": {
    "ExecuteTime": {
     "end_time": "2025-05-13T06:35:48.437723Z",
     "start_time": "2025-05-13T06:35:48.431331Z"
    }
   },
   "source": [
    "# add your idea here\n",
    "# your algorithm time complexity is: O(nW)\n",
    "\"\"\"\n",
    "参考了大模型\n",
    "算法思路：\n",
    "使用动态规划解决子集和问题。创建一个布尔型二维数组dp，其中dp[i][j]表示前i个元素中是否存在子集和为j。初始化dp[0][0]为True，然后逐步填充dp表，通过状态转移方程：若前i-1个元素能达到j或能达到j-S[i-1]，则dp[i][j]为True。最终返回dp[n][W]的结果。\n",
    "\n",
    "时间复杂度：\n",
    "算法需要填充一个n行W列的二维表格，每个单元格的计算时间为O(1)，因此总时间复杂度为O(nW)。\n",
    "\"\"\"\n",
    "def subset_sum(S, W):\n",
    "    n = len(S)\n",
    "    dp = [[False]*(W+1) for _ in range(n+1)]\n",
    "    dp[0][0] = True\n",
    "\n",
    "    for i in range(1, n+1):\n",
    "        for j in range(W+1):\n",
    "            if j < S[i-1]:\n",
    "                dp[i][j] = dp[i-1][j]\n",
    "            else:\n",
    "                dp[i][j] = dp[i-1][j] or dp[i-1][j-S[i-1]]\n",
    "\n",
    "    return dp[n][W]\n",
    "\n",
    "S = [1, 4, 7, 3, 5]\n",
    "W = 11\n",
    "print(subset_sum(S, W))"
   ],
   "outputs": [
    {
     "name": "stdout",
     "output_type": "stream",
     "text": [
      "True\n"
     ]
    }
   ],
   "execution_count": 14
  },
  {
   "cell_type": "markdown",
   "metadata": {},
   "source": [
    "\n",
    "\n",
    "## 问题 9 \n",
    "\n",
    "> 给定一个n个物品的集合。物体的重量为$w_1, w_2，…、w_n$，物品的价值分别是$v_1、v_2、…v_n$。给你**两个**重量为 $c$ 的背包。如果你带了一个东西，它可以放在一个背包里，也可以放在另一个背包里，但不能同时放在两个背包里。所有权重和价值都是正整数。\n",
    "\n",
    "1. 设计一个时间复杂度为 $O(nc^2)$ 的动态规划算法，确定可以放入两个背包的物体的最大价值。分析算法设计思路，并基于python编程实现\n",
    "2. \\* 修改1中的算法，输出每个背包的内容（物品对应下标）。\n",
    "\n",
    "e.g.: \n",
    "\n",
    "输入 V=[1,3,2,5,8,7], W=[1,3,2,5,8,7], c=7, 输出：最大价值=14，背包装的物品为：[6] [4，3] （同一个背包中物品装入顺序对结果无影响）  \n"
   ]
  },
  {
   "cell_type": "markdown",
   "metadata": {},
   "source": [
    "idea："
   ]
  },
  {
   "cell_type": "code",
   "metadata": {
    "ExecuteTime": {
     "end_time": "2025-05-13T06:36:03.009989Z",
     "start_time": "2025-05-13T06:36:03.002287Z"
    }
   },
   "source": [
    "# add your idea here\n",
    "# your algorithm time complexity is: O(nc^2)\n",
    "\"\"\"\n",
    "算法思路:\n",
    "双背包问题，使用三维动态规划来解决。定义dp[i][j][k]表示前i个物品，第一个背包容量为j，第二个背包容量为k时的最大价值。对于每个物品，可以选择放入背包1、背包2或者不放入。最终结果为dp[n][c][c]。\n",
    "\n",
    "时间复杂度:\n",
    "需要填充一个n×c×c的三维表格，每个状态转移需要O(1)时间，因此总时间复杂度为O(nc²)。\n",
    "\"\"\"\n",
    "def twoBag(V, W, c):\n",
    "    n = len(V)\n",
    "    dp = []\n",
    "    for i in range(n + 1):\n",
    "        items_layer = []\n",
    "        for j in range(c + 1):\n",
    "            first_bag_layer = []\n",
    "            for k in range(c + 1):\n",
    "                first_bag_layer.append(0)\n",
    "            items_layer.append(first_bag_layer)\n",
    "        dp.append(items_layer)\n",
    "\n",
    "    for i in range(1, n + 1):\n",
    "        current_value = V[i - 1]\n",
    "        current_weight = W[i - 1]\n",
    "\n",
    "        #第一个背包\n",
    "        for j in range(c + 1):\n",
    "            #第二个背包\n",
    "            for k in range(c + 1):\n",
    "                #不放物品\n",
    "                max_value = dp[i - 1][j][k]\n",
    "\n",
    "                #放入第一个背包\n",
    "                if j >= current_weight:\n",
    "                    value_if_put_in_first = dp[i - 1][j - current_weight][k] + current_value\n",
    "                    if value_if_put_in_first > max_value:\n",
    "                        max_value = value_if_put_in_first\n",
    "\n",
    "                #放入第二个背包\n",
    "                if k >= current_weight:\n",
    "                    value_if_put_in_second = dp[i - 1][j][k - current_weight] + current_value\n",
    "                    if value_if_put_in_second > max_value:\n",
    "                        max_value = value_if_put_in_second\n",
    "\n",
    "                dp[i][j][k] = max_value\n",
    "\n",
    "    return dp[n][c][c]\n",
    "\n",
    "V = [1, 3, 2, 5, 8, 7]\n",
    "W = [1, 3, 2, 5, 8, 7]\n",
    "c = 7\n",
    "print(twoBag(V, W, c))"
   ],
   "outputs": [
    {
     "name": "stdout",
     "output_type": "stream",
     "text": [
      "14\n"
     ]
    }
   ],
   "execution_count": 15
  },
  {
   "cell_type": "markdown",
   "metadata": {},
   "source": [
    "## 问题 10 \n",
    "\n",
    "> 给定两个字符串 $x[1..n]$ 和 $y[1..m]$，我们想通过以下操作将 $x$ 变换为 $y$ :\n",
    ">\n",
    "> **插入**：在 $x$ 中插入一个字符(在任何位置)；**删除**：从 $x$ 中删除一个字符(在任何位置)； **替换**：用另一个字符替换 $x$ 中的一个字符。\n",
    ">\n",
    "> 例如: $x = abcd$, $y = bcfe$，\n",
    ">\n",
    "> - 将 $x$ 转换为 $y$ 的一种可能方法是：1. 删除 $x$ 开头的 $a$, $x$变成 $bcd$； 2. 将 $x$ 中的字符 $d$ 替换为字符 $f$。$x$ 变成 $bcf$； 3. 在 $x$ 的末尾插入字符 $e$。$x$ 变成 $bcfe$。\n",
    ">\n",
    "> - 另一种可能的方法：1. 删除 $x$ 开头的 $a$,  $x$ 变成 $bcd$； 2. 在 $x$ 中字符 $d$ 之前插入字符 $f$。$x$ 变成 $bcfd$。3. 将 $x$ 中的字符 $d$ 替换为字符 $e$。$x$ 变成 $bcfe$。\n",
    "\n",
    "设计一个时间复杂度为 $O(mn)$ 的算法，返回将 $x$ 转换为 $y$ 所需的最少操作次数。分析算法设计思路，并基于python编程实现。\n"
   ]
  },
  {
   "cell_type": "markdown",
   "metadata": {},
   "source": [
    "idea："
   ]
  },
  {
   "cell_type": "code",
   "metadata": {
    "ExecuteTime": {
     "end_time": "2025-05-13T06:36:06.433064Z",
     "start_time": "2025-05-13T06:36:06.427131Z"
    }
   },
   "source": [
    "# add your idea here\n",
    "# your algorithm time complexity is: O(mn)\n",
    "\"\"\"\n",
    "算法思路:\n",
    "用动态规划来解决,创建一个二维数组dp，其中dp[i][j]表示将x的前i个字符转换为y的前j个字符所需的最小操作次数。状态转移考虑三种操作：插入、删除和替换，取这三种操作中的最小值加1。\n",
    "\n",
    "时间复杂度:\n",
    "需要填充一个m×n的二维表格，每个单元格的计算时间为O(1)，因此总时间复杂度为O(mn)。\n",
    "\"\"\"\n",
    "def change_str(x, y):\n",
    "    m = len(x)\n",
    "    n = len(y)\n",
    "    dp = []\n",
    "\n",
    "    for i in range(m + 1):\n",
    "        row = []\n",
    "        for j in range(n + 1):\n",
    "            row.append(0)\n",
    "        dp.append(row)\n",
    "\n",
    "    for i in range(m+1):\n",
    "        dp[i][0] = i\n",
    "    for j in range(n+1):\n",
    "        dp[0][j] = j\n",
    "\n",
    "    for i in range(1, m+1):\n",
    "        for j in range(1, n+1):\n",
    "            if x[i-1] == y[j-1]:\n",
    "                dp[i][j] = dp[i-1][j-1]\n",
    "            else:\n",
    "                dp[i][j] = 1 + min(dp[i-1][j], dp[i][j-1], dp[i-1][j-1])\n",
    "\n",
    "    return dp[m][n]\n",
    "\n",
    "x = \"abcd\"\n",
    "y = \"bcfe\"\n",
    "print(change_str(x, y))"
   ],
   "outputs": [
    {
     "name": "stdout",
     "output_type": "stream",
     "text": [
      "3\n"
     ]
    }
   ],
   "execution_count": 16
  }
 ],
 "metadata": {
  "language_info": {
   "name": "python"
  }
 },
 "nbformat": 4,
 "nbformat_minor": 2
}
