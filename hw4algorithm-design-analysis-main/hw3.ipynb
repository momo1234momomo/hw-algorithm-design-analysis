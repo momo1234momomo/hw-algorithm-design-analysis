{
 "cells": [
  {
   "cell_type": "markdown",
   "metadata": {},
   "source": [
    "## algorithm design and anlysis-2025 spring  homework 3\n",
    "**Deadline**：2025.5.14\n",
    "\n",
    "**name**:\n",
    "\n",
    "\n",
    "note：\n",
    "---\n",
    "1. 带有\\*的题目，申请免上课的同学，必须完成，其他同学选作；\n",
    "2. 请独立完成，如求助了他人或者大模型，请著明，并且不可省略算法分析部分；\n",
    "4. 如若作答有雷同，全部取消成绩；\n",
    "3. 需要书面作答的题目，可以通过引用图片的形式添加，但是注意上传项目时包含所引用的图片的源文件；\n",
    "4. $log_n$ 默认表示$log_2{n}$;"
   ]
  },
  {
   "cell_type": "markdown",
   "metadata": {},
   "source": [
    "## 问题 1  \n",
    "\n",
    "请证明基于比较的排序算法计算复杂度下界为$\\Omega(nlogn)$"
   ]
  },
  {
   "cell_type": "markdown",
   "metadata": {},
   "source": [
    "you can refer a handwritten picture, pleas upload the picture in /fig/xxx.png\n",
    "answer："
   ]
  },
  {
   "metadata": {},
   "cell_type": "markdown",
   "source": "![alt text](hw-fig/hw3q1.jpg)"
  },
  {
   "cell_type": "markdown",
   "metadata": {},
   "source": [
    "## 问题 2 \n",
    "\n",
    "构建二叉搜索树\n",
    "\n",
    "> 1. 给定一个数组 [48, 33, 49, 47, 42, 46, 32], 构建一个二叉搜索树存储这些数据，请**绘制**所构建的**二叉搜索树**（标明结点的值）。\n",
    "> 2. 从第1问的二叉搜索树中删除33，请**绘制**删除33后的**二叉搜索树**（标明结点的值）\n",
    "\n",
    "- 推荐使用graphviz包绘制树的结构"
   ]
  },
  {
   "cell_type": "markdown",
   "metadata": {},
   "source": [
    "you can refer a handwritten picture, pleas upload the picture in /fig/xxx.png\n",
    "answer："
   ]
  },
  {
   "metadata": {},
   "cell_type": "markdown",
   "source": "![alt text](hw-fig/hw3q2.jpg)"
  },
  {
   "cell_type": "markdown",
   "metadata": {},
   "source": [
    "## 问题 3 \n",
    "\n",
    "> 下面是九门课程的开始和结束时间:\n",
    ">\n",
    "> [(9:00,12:30), (11:00,14:00), (13:00, 14:30), (9:00,10:30),(13:00, 14:30),(14:00,16:30), (15:00,16:30), (15:00,16:30), (9:00,10:30)]\n",
    ">\n",
    "> 请使用贪婪算法为这九门课分配教室，要求在同一天内安排这些课，并且每个教室同一时间只能安排一门课。\n",
    "\n",
    "**请问最少需要几间教室，罗列出每个教室安排的课程**"
   ]
  },
  {
   "cell_type": "markdown",
   "metadata": {},
   "source": [
    "idea：\n",
    "\n",
    "1.按开始时间将所有课程排序;\n",
    "\n",
    "2.优先记录当前各教室的最晚结束时间；\n",
    "\n",
    "3.对于每个课程：若有教室的上一课程已结束（当前课程开始时间 ≥ 教室的最晚结束时间），则复用该教室；否则需要新开教室。\n",
    "\n",
    "![alt text](hw-fig/hw3q3.jpg)"
   ]
  },
  {
   "cell_type": "markdown",
   "metadata": {},
   "source": [
    "## 问题 4 \n",
    "\n",
    "> 爬楼梯问题：假设爬楼梯时你每次只能爬一阶或者爬两阶，问爬上n阶的楼梯，你一共有多少种方法\n",
    "\n",
    "请设计算法完成该问题，分析算法设计思路，计算时间复杂度，并基于python编程实现"
   ]
  },
  {
   "cell_type": "markdown",
   "metadata": {},
   "source": [
    "idea："
   ]
  },
  {
   "cell_type": "code",
   "metadata": {
    "ExecuteTime": {
     "end_time": "2025-05-13T06:36:17.724020Z",
     "start_time": "2025-05-13T06:36:17.716527Z"
    }
   },
   "source": [
    "# add your code here\n",
    "# your algorithm time complexity is:\n",
    "\"\"\"\n",
    "算法思路：\n",
    "用斐波那契数列来实现。到达第n阶的方法数等于到达n-1阶和n-2阶（最后一步分别爬1阶和2阶）的方法数之和。\n",
    "\n",
    "时间复杂度：\n",
    "循环从3到n，每次迭代执行常数时间的操作，因此时间复杂度是O(n)。\n",
    "\"\"\"\n",
    "\n",
    "def climbStairs(n):\n",
    "\n",
    "    if n == 1:\n",
    "        return 1\n",
    "    if n == 2:\n",
    "        return 2\n",
    "\n",
    "    first, second = 1, 2\n",
    "\n",
    "    for i in range(3, n + 1):\n",
    "        third = first + second\n",
    "        first, second = second, third\n",
    "\n",
    "    return second\n",
    "\n",
    "print(climbStairs(3))\n"
   ],
   "outputs": [
    {
     "name": "stdout",
     "output_type": "stream",
     "text": [
      "3\n"
     ]
    }
   ],
   "execution_count": 1
  },
  {
   "cell_type": "markdown",
   "metadata": {},
   "source": [
    "## 问题 5 \n",
    "\n",
    "> 0-1背包问题：现在有4块大理石，每个大理石对应的重量和价值使用一个元组表示, 即（重量，价值），4块大理石的重量和价值为：[(5,10), (4,40), (6,30), (3, 50)], 假设你有一辆最大承重为9的小推车，请问使用这个小推车装大理石的最大价值为多少\n",
    "\n",
    "请设计一个算法解决该问题，分析算法设计思路，计算时间复杂度，并基于python编程实现"
   ]
  },
  {
   "cell_type": "markdown",
   "metadata": {},
   "source": [
    "idea："
   ]
  },
  {
   "cell_type": "code",
   "metadata": {
    "ExecuteTime": {
     "end_time": "2025-05-13T06:37:00.457378Z",
     "start_time": "2025-05-13T06:37:00.451660Z"
    }
   },
   "source": [
    "# add your code here\n",
    "# your algorithm time complexity is:\n",
    "\"\"\"\n",
    "算法思路：\n",
    "用动态规划方法解决0-1背包问题：\n",
    "1.状态定义：用一维数组 dp[w] 表示容量为 w 时的最大价值。\n",
    "2.状态转移：对每个物品，从后向前遍历背包容量，更新 dp[w] = max(dp[w], dp[w - weight] + value)。\n",
    "3.逆序更新：避免重复计算，确保每个物品仅被选择一次。\n",
    "\n",
    "时间复杂度计算\n",
    "物品遍历有4次循环，每次遍历最大容量 W=9，所以总时间复杂度：O(nW)。\n",
    "\"\"\"\n",
    "def bag():\n",
    "    items = [(5, 10), (4, 40), (6, 30), (3, 50)]\n",
    "    max_weight = 9\n",
    "    dp = [0] * (max_weight + 1)\n",
    "\n",
    "    for weight, value in items:\n",
    "        for w in range(max_weight, weight - 1, -1):\n",
    "            dp[w] = max(dp[w], dp[w - weight] + value)\n",
    "\n",
    "    return dp[max_weight]\n",
    "\n",
    "print(bag())"
   ],
   "outputs": [
    {
     "name": "stdout",
     "output_type": "stream",
     "text": [
      "90\n"
     ]
    }
   ],
   "execution_count": 3
  },
  {
   "cell_type": "markdown",
   "metadata": {},
   "source": [
    "## 问题 6 \n",
    "给定 `n` 个非负整数表示每个宽度为 `1` 的柱子的高度图，计算按此排列的柱子，下雨之后能接多少雨水。\n",
    "\n",
    "\n",
    "\n",
    "<div style=\"text-align:center;width:800px;\"> <img alt=\"\" src=\"./fig/hw3q6.png\"> </div>\n",
    "\n",
    "请分析算法设计思路，计算时间复杂度，并基于python编程实现"
   ]
  },
  {
   "cell_type": "markdown",
   "metadata": {},
   "source": [
    "idea："
   ]
  },
  {
   "cell_type": "code",
   "metadata": {
    "ExecuteTime": {
     "end_time": "2025-05-13T06:37:25.047250Z",
     "start_time": "2025-05-13T06:37:25.040274Z"
    }
   },
   "source": [
    "# add your code here\n",
    "# your algorithm time complexity is:\n",
    "\"\"\"\n",
    "参考了大模型\n",
    "算法思路：\n",
    "创建两个数组left_max和right_max，分别记录每个位置左侧和右侧的最大高度（包含自身）。left_max[i]从左到右遍历，保存到位置i为止的最大高度。right_max[i]从右到左遍历，保存从位置i到末尾的最大高度。每个位置i的储水量为 min(left_max[i], right_max[i]) - height[i]，累加所有位置的结果。\n",
    "\n",
    "时间复杂度：\n",
    "两次遍历生成left_max和right_max，一次遍历计算总和，所以时间复杂度为O(n)，其中n为数组长度。\n",
    "\"\"\"\n",
    "def trap(height):\n",
    "    if not height:\n",
    "        return 0\n",
    "\n",
    "    n = len(height)\n",
    "    left_max = [0] * n\n",
    "    left_max[0] = height[0]\n",
    "    for i in range(1, n):\n",
    "        left_max[i] = max(left_max[i-1], height[i])\n",
    "\n",
    "    right_max = [0] * n\n",
    "    right_max[-1] = height[-1]\n",
    "    for i in range(n-2, -1, -1):\n",
    "        right_max[i] = max(right_max[i+1], height[i])\n",
    "\n",
    "    total = 0\n",
    "    for i in range(n):\n",
    "        total += min(left_max[i], right_max[i]) - height[i]\n",
    "\n",
    "    return total\n",
    "\n",
    "print(trap([0,1,0,2,1,0,1,3,2,1,2,1]))\n",
    "print(trap([4,2,0,3,2,5]))"
   ],
   "outputs": [
    {
     "name": "stdout",
     "output_type": "stream",
     "text": [
      "6\n",
      "9\n"
     ]
    }
   ],
   "execution_count": 4
  },
  {
   "cell_type": "markdown",
   "metadata": {},
   "source": [
    "## 问题 7 \n",
    "\n",
    "**股票投资组合优化**： 假设你是一位投资者，想要在不同的股票中分配你的资金，以最大化你的投资回报。每只股票都有不同的预期收益率和风险。你的目标是选择一些股票，使得总投资金额不超过你的预算，并且预期收益最大化。\n",
    "\n",
    "在这个情况下，你可以将每只股票视为一个“物品”，其重量为投资金额，价值为预期收益率。然后，你可以使用分级背包问题的方法来选择部分股票，以便在预算内获得最大的预期收益。\n",
    "\n",
    "以下是一个简化的例子：\n",
    "\n",
    "假设你有以下三只股票可供选择：\n",
    "\n",
    "1. 股票 A：投资金额 5000 美元，预期收益率 10%\n",
    "2. 股票 B：投资金额 3000 美元，预期收益率 8%\n",
    "3. 股票 C：投资金额 2000 美元，预期收益率 12%\n",
    "\n",
    "请设计算法找到最优投资方案，分析算法设计思路，计算时间复杂度，并基于python编程实现"
   ]
  },
  {
   "cell_type": "markdown",
   "metadata": {},
   "source": [
    "idea："
   ]
  },
  {
   "cell_type": "code",
   "metadata": {
    "ExecuteTime": {
     "end_time": "2025-05-13T06:37:31.564235Z",
     "start_time": "2025-05-13T06:37:31.553486Z"
    }
   },
   "source": [
    "# add your code here\n",
    "# your algorithm time complexity is:\n",
    "\"\"\"\n",
    "算法思路:\n",
    "该问题可转化为0-1背包问题，采用动态规划方法解决：\n",
    "1.状态定义：使用一维数组 dp[w] 表示预算为 w 时的最大收益；\n",
    "2.状态转移：对每个股票，逆序遍历预算范围，更新dp[w] = max(dp[w], dp[w - weight] + value)；\n",
    "3.物品追踪：通过辅助数组记录每个预算下的最优选择组合。\n",
    "\n",
    "时间复杂度：\n",
    "主循环：遍历n个股票 × 遍历预算上限W。所以时间复杂度为O(nW)。\n",
    "\"\"\"\n",
    "def invest(stocks, budget):\n",
    "\n",
    "    items = [(amt, amt * rate) for amt, rate in stocks]\n",
    "\n",
    "    dp = [0] * (budget + 1)\n",
    "    selected = [[] for _ in range(budget + 1)]\n",
    "\n",
    "    for idx, (amt, profit) in enumerate(items):\n",
    "        for w in range(budget, amt - 1, -1):\n",
    "            if dp[w - amt] + profit > dp[w]:\n",
    "                dp[w] = dp[w - amt] + profit\n",
    "                selected[w] = selected[w - amt] + [idx]\n",
    "\n",
    "    max_profit = max(dp)\n",
    "    max_weight = max(w for w in range(budget + 1) if dp[w] == max_profit)\n",
    "    chosen = selected[max_weight]\n",
    "\n",
    "    result = []\n",
    "    for i in chosen:\n",
    "        amt, rate = stocks[i][0], stocks[i][1]\n",
    "        result.append(f\"股票 {chr(65+i)}（投资 {amt} 美元，收益 {amt*rate} 美元）\")\n",
    "\n",
    "    return max_profit, result\n",
    "\n",
    "stocks = [\n",
    "    (5000, 0.10),  # 股票A\n",
    "    (3000, 0.08),  # 股票B\n",
    "    (2000, 0.12)   # 股票C\n",
    "]\n",
    "budget = 8000\n",
    "\n",
    "max_profit, chosen_stocks = invest(stocks, budget)\n",
    "print(f\"最大收益：{max_profit} 美元\")\n",
    "print(\"最优组合：\")\n",
    "for stock in chosen_stocks:\n",
    "    print(f\"  - {stock}\")"
   ],
   "outputs": [
    {
     "name": "stdout",
     "output_type": "stream",
     "text": [
      "最大收益：740.0 美元\n",
      "最优组合：\n",
      "  - 股票 A（投资 5000 美元，收益 500.0 美元）\n",
      "  - 股票 B（投资 3000 美元，收益 240.0 美元）\n"
     ]
    }
   ],
   "execution_count": 5
  },
  {
   "cell_type": "markdown",
   "metadata": {},
   "source": [
    "## 问题 8\n",
    "\n",
    "给你二叉搜索树的根节点 root ，该树中的恰好两个节点的值被错误地交换。请在不改变其结构的情况下，恢复这棵树 。设计算法解决该问题，分析算法设计思路，计算时间复杂度，并基于python编程实现\n",
    "\n",
    "e.g.:\n",
    "---\n",
    "1.\n",
    "\n",
    "<div style=\"text-align:center;width:200px;\"> <img alt=\"\" src=\"./fig/hw3q9-1.jpg\"> </div>\n",
    "输入：root = [1,3,null,null,2]， 输出为：[3,1,null,null,2]， \n",
    "\n",
    "解释：3 不能是 1 的左孩子，因为 3 > 1 。交换 1 和 3 使二叉搜索树有效。\n",
    "\n",
    "2.\n",
    "\n",
    " <div style=\"text-align:center;width:200px;\"> <img alt=\"\" src=\"./fig/hw3q9-1.jpg\"> </div>\n",
    "输入： root=[3,1,4,null,null,2]， 输出为：[2,1,4,null,null,3]\n",
    "\n",
    "解释：2 不能在 3 的右子树中，因为 2 < 3 。交换 2 和 3 使二叉搜索树有效。"
   ]
  },
  {
   "cell_type": "markdown",
   "metadata": {},
   "source": [
    "idea：\n"
   ]
  },
  {
   "cell_type": "code",
   "metadata": {
    "ExecuteTime": {
     "end_time": "2025-05-13T06:41:58.549023Z",
     "start_time": "2025-05-13T06:41:58.538777Z"
    }
   },
   "source": [
    "# add your code here\n",
    "# your algorithm time complexity is:\n",
    "\"\"\"\n",
    "算法思路：\n",
    "用中序遍历二叉搜索树解决：\n",
    "1.中序遍历定位错误节点：BST的中序遍历应为递增序列，若两个节点值被错误交换，遍历时会出现两处逆序（或一对相邻逆序）；\n",
    "2.双指针追踪：使用prev记录前驱节点，first和second分别记录第一个和第二个错误节点；\n",
    "3.交换节点值：遍历结束后交换first和second的值，恢复BST性质。\n",
    "\n",
    "时间复杂度：\n",
    "中序遍历时间复杂度为 O(n)。\n",
    "\"\"\"\n",
    "class TreeNode:\n",
    "    def __init__(self, val=0, left=None, right=None):\n",
    "        self.val = val\n",
    "        self.left = left\n",
    "        self.right = right\n",
    "\n",
    "\n",
    "class Solution:\n",
    "    def recoverTree(self, root: TreeNode) -> None:\n",
    "        self.prev = None\n",
    "        self.first = None\n",
    "        self.second = None\n",
    "        self.inorder(root)\n",
    "        self.first.val, self.second.val = self.second.val, self.first.val\n",
    "\n",
    "    def inorder(self, node):\n",
    "        if not node:\n",
    "            return\n",
    "        self.inorder(node.left)\n",
    "        if self.prev and self.prev.val > node.val:\n",
    "            if not self.first:\n",
    "                self.first = self.prev\n",
    "            self.second = node\n",
    "        self.prev = node\n",
    "        self.inorder(node.right)\n",
    "\n",
    "\n",
    "#将列表转换为二叉树\n",
    "def list_to_tree(lst):\n",
    "    if not lst:\n",
    "        return None\n",
    "    root = TreeNode(lst[0])\n",
    "    queue = [root]\n",
    "    i = 1\n",
    "    while i < len(lst):\n",
    "        current = queue.pop(0)\n",
    "        if lst[i] is not None:\n",
    "            current.left = TreeNode(lst[i])\n",
    "            queue.append(current.left)\n",
    "        i += 1\n",
    "        if i < len(lst) and lst[i] is not None:\n",
    "            current.right = TreeNode(lst[i])\n",
    "            queue.append(current.right)\n",
    "        i += 1\n",
    "    return root\n",
    "\n",
    "\n",
    "#将二叉树转换为列表\n",
    "def tree_to_list(root):\n",
    "    if not root:\n",
    "        return []\n",
    "    result = []\n",
    "    queue = [root]\n",
    "    while queue:\n",
    "        current = queue.pop(0)\n",
    "        if current:\n",
    "            result.append(current.val)\n",
    "            queue.append(current.left)\n",
    "            queue.append(current.right)\n",
    "        else:\n",
    "            result.append(None)\n",
    "    while result and result[-1] is None:\n",
    "        result.pop()\n",
    "    return result\n",
    "\n",
    "\n",
    "solution = Solution()\n",
    "\n",
    "# 示例1\n",
    "input_list1 = [1, 3, None, None, 2]\n",
    "root1 = list_to_tree(input_list1)\n",
    "solution.recoverTree(root1)\n",
    "output_list1 = tree_to_list(root1)\n",
    "print(\"输入:\", input_list1)\n",
    "print(\"输出:\", output_list1)\n",
    "\n",
    "# 示例2\n",
    "input_list2 = [3, 1, 4, None, None, 2]\n",
    "root2 = list_to_tree(input_list2)\n",
    "solution.recoverTree(root2)\n",
    "output_list2 = tree_to_list(root2)\n",
    "print(\"输入:\", input_list2)\n",
    "print(\"输出:\", output_list2)"
   ],
   "outputs": [
    {
     "name": "stdout",
     "output_type": "stream",
     "text": [
      "输入: [1, 3, None, None, 2]\n",
      "输出: [3, 1, None, None, 2]\n",
      "输入: [3, 1, 4, None, None, 2]\n",
      "输出: [2, 1, 4, None, None, 3]\n"
     ]
    }
   ],
   "execution_count": 7
  },
  {
   "cell_type": "markdown",
   "metadata": {},
   "source": [
    "## 问题 9  \n",
    "\n",
    "给你一个二叉树的根节点 root ，树中每个节点都存放有一个 0 到 9 之间的数字。每条从根节点到叶节点的路径都代表一个数字：\n",
    "\n",
    "> 例如，从根节点到叶节点的路径 1 -> 2 -> 3 表示数字 123 。\n",
    "\n",
    "设计一个算法计算从根节点到叶节点生成的所有数字之和 ，分析算法设计思路，计算时间复杂度，并基于python编程实现\n",
    "\n",
    "叶节点:是指没有子节点的节点。\n",
    "\n",
    "e.g.:\n",
    "---\n",
    "1.\n",
    "\n",
    " <div style=\"text-align:center;width:200px;\"> <img alt=\"figure\" src=\"./fig/hw3q10-1.jpg\"> </div>\n",
    "\n",
    " 输入：root = [1,2,3], 输出：25\n",
    "\n",
    "解释：从根到叶子节点路径 1->2 代表数字 12，1->3 代表数字 13，因此和为 12 + 13 = 25 。\n",
    "\n",
    "2.\n",
    "\n",
    " <div style=\"text-align:center;width:200px;\"> <img alt=\"figure\" src=\"./fig/hw3q10-2.jpg\"> </div>\n",
    "\n",
    " 输入：root = [4,9,0,5,1], 输出：1026\n",
    "\n",
    "解释：从根到叶子节点路径 4->9->5 代表数字 495，4->9->1 代表数字 491，4->0 代表数字 40。因此和为 495 + 491 + 40 = 1026 。"
   ]
  },
  {
   "cell_type": "markdown",
   "metadata": {},
   "source": [
    "idea："
   ]
  },
  {
   "cell_type": "code",
   "metadata": {
    "ExecuteTime": {
     "end_time": "2025-05-13T06:45:42.586409Z",
     "start_time": "2025-05-13T06:45:42.580775Z"
    }
   },
   "source": [
    "# add your code here\n",
    "# your algorithm time complexity is:\n",
    "\"\"\"\n",
    "算法思路：\n",
    "使用深度优先搜索递归遍历二叉树，每次递归时维护当前路径的累积数值。\n",
    "1.累积路径值：从根节点到当前节点的路径值计算为 current_sum = current_sum * 10 + node.val。\n",
    "2.叶节点判断：若当前节点是叶节点（无左右子节点），将累积值加入总和。\n",
    "3.递归处理子树：若非叶节点，继续递归处理左右子树，返回左右子树的总和。\n",
    "\n",
    "时间复杂度：\n",
    "遍历所有节点，每个节点被访问一次，时间复杂度为O(n)，其中n是节点总数。\n",
    "\"\"\"\n",
    "class TreeNode:\n",
    "    def __init__(self, val=0, left=None, right=None):\n",
    "        self.val = val\n",
    "        self.left = left\n",
    "        self.right = right\n",
    "\n",
    "def sumNumbers(root):\n",
    "    def dfs(node, current_sum):\n",
    "        if not node:\n",
    "            return 0\n",
    "        current_sum = current_sum * 10 + node.val\n",
    "        if not node.left and not node.right:\n",
    "            return current_sum\n",
    "        return dfs(node.left, current_sum) + dfs(node.right, current_sum)\n",
    "    return dfs(root, 0)\n",
    "\n",
    "def test_sum():\n",
    "    root1 = TreeNode(1, TreeNode(2), TreeNode(3))\n",
    "    print(f\"输入1：root=[1,2,3]，sum = {sumNumbers(root1)}\")\n",
    "\n",
    "    root2 = TreeNode(4,TreeNode(9, TreeNode(5), TreeNode(1)),TreeNode(0))\n",
    "    print(f\"输入2：root=[4,9,0,5,1]，sum = {sumNumbers(root2)}\")\n",
    "\n",
    "test_sum()"
   ],
   "outputs": [
    {
     "name": "stdout",
     "output_type": "stream",
     "text": [
      "输入1：root=[1,2,3]，sum = 25\n",
      "输入2：root=[4,9,0,5,1]，sum = 1026\n"
     ]
    }
   ],
   "execution_count": 10
  },
  {
   "cell_type": "markdown",
   "metadata": {},
   "source": [
    "## 问题 10  \n",
    "\n",
    "给你一个二叉树的根节点 root ， 检查它是否轴对称。\n",
    "\n",
    "1. 分析算法设计思路，计算时间复杂度，并基于python编程实现\n",
    "2. \\* 设计使用递归和迭代两种方法解决这个问题，计算时间复杂度，并基于python编程实现\n",
    "\n",
    "e.g.:\n",
    "---\n",
    "1.\n",
    "\n",
    " <div style=\"text-align:center;width:200px;\"> <img alt=\"figure\" src=\"./fig/hw3q11-1.png\"> </div>\n",
    "\n",
    " 输入：root = [1,2,2,3,4,4,3]， 输出：true\n",
    "\n",
    "解释：二叉树 [1,2,2,3,4,4,3] 对称。\n",
    "\n",
    "2.\n",
    "\n",
    " <div style=\"text-align:center;width:200px;\"> <img alt=\"figure\" src=\"./fig/hw3q11-2.png\"> </div>\n",
    "\n",
    " 输入：root = [1,2,2,null,3,null,3]， 输出：false"
   ]
  },
  {
   "cell_type": "markdown",
   "metadata": {},
   "source": [
    "idea"
   ]
  },
  {
   "cell_type": "code",
   "metadata": {
    "ExecuteTime": {
     "end_time": "2025-05-13T06:45:54.668182Z",
     "start_time": "2025-05-13T06:45:54.662203Z"
    }
   },
   "source": [
    "# add your code here\n",
    "# your algorithm time complexity is:\n",
    "\"\"\"\n",
    "算法思路：\n",
    "使用递归方法判断二叉树是否对称，递归比较左子树的左节点与右子树的右节点、左子树的右节点与右子树的左节点是否对称：\n",
    "    左右节点均为空 → 对称\n",
    "    仅一个节点为空 → 不对称\n",
    "    节点值不同 → 不对称\n",
    "\n",
    "时间复杂度：\n",
    "递归遍历，每个节点访问一次，时间复杂度为O(n)，其中n为节点总数。\n",
    "\"\"\"\n",
    "class TreeNode:\n",
    "    def __init__(self, val=0, left=None, right=None):\n",
    "        self.val = val\n",
    "        self.left = left\n",
    "        self.right = right\n",
    "\n",
    "def symmetric(root):\n",
    "    def compare(left, right):\n",
    "        if not left and not right:\n",
    "            return True\n",
    "        if not left or not right:\n",
    "            return False\n",
    "        if left.val != right.val:\n",
    "            return False\n",
    "        return compare(left.left, right.right) and compare(left.right, right.left)\n",
    "\n",
    "    if not root:\n",
    "        return True\n",
    "    return compare(root.left, root.right)\n",
    "\n",
    "def test():\n",
    "    root1 = TreeNode(1,\n",
    "                    TreeNode(2, TreeNode(3), TreeNode(4)),\n",
    "                    TreeNode(2, TreeNode(4), TreeNode(3)))\n",
    "    print(f\"{symmetric(root1)}\")\n",
    "\n",
    "    root2 = TreeNode(1,\n",
    "                    TreeNode(2, None, TreeNode(3)),\n",
    "                    TreeNode(2, None, TreeNode(3)))\n",
    "    print(f\"{symmetric(root2)}\")\n",
    "\n",
    "test()"
   ],
   "outputs": [
    {
     "name": "stdout",
     "output_type": "stream",
     "text": [
      "True\n",
      "False\n"
     ]
    }
   ],
   "execution_count": 11
  },
  {
   "cell_type": "markdown",
   "metadata": {},
   "source": [
    "## 问题 11  \n",
    "\n",
    "给你一个由 '1'（陆地）和 '0'（水）组成的的二维网格，请你计算网格中岛屿的数量。岛屿总是被水包围，并且每座岛屿只能由水平方向和/或竖直方向上相邻的陆地连接形成。\n",
    "\n",
    "此外，你可以假设该网格的四条边均被水包围。\n",
    "\n",
    "分析算法设计思路，计算时间复杂度，并基于python编程实现\n",
    "\n",
    "e.g.:\n",
    "---\n",
    "1.\n",
    "输入：grid = [\n",
    "\n",
    "    [\"1\",\"1\",\"1\",\"1\",\"0\"],\n",
    "\n",
    "    [\"1\",\"1\",\"0\",\"1\",\"0\"], \n",
    "\n",
    "    [\"1\",\"1\",\"0\",\"0\",\"0\"], \n",
    "\n",
    "    [\"0\",\"0\",\"0\",\"0\",\"0\"]  \n",
    "\n",
    "]\n",
    "\n",
    "输出：1\n",
    "\n",
    "2.\n",
    "输入：grid = [\n",
    "\n",
    "    [\"1\",\"1\",\"0\",\"0\",\"0\"],\n",
    "\n",
    "    [\"1\",\"1\",\"0\",\"0\",\"0\"],\n",
    "\n",
    "    [\"0\",\"0\",\"1\",\"0\",\"0\"],\n",
    "\n",
    "    [\"0\",\"0\",\"0\",\"1\",\"1\"]\n",
    "\n",
    "]\n",
    "\n",
    "输出：3"
   ]
  },
  {
   "cell_type": "markdown",
   "metadata": {},
   "source": [
    "idea:"
   ]
  },
  {
   "cell_type": "code",
   "metadata": {
    "ExecuteTime": {
     "end_time": "2025-05-13T06:47:47.509174Z",
     "start_time": "2025-05-13T06:47:47.502003Z"
    }
   },
   "source": [
    "# add your code here\n",
    "# your algorithm time complexity is:\n",
    "\"\"\"\n",
    "算法思路：\n",
    "使用深度优先搜索遍历网格，遇到未访问的陆地（'1'）时启动DFS，标记所有相连的陆地为已访问，统计岛屿数量；\n",
    "1.遍历网格：逐个检查每个单元格；\n",
    "2.发现陆地：当遇到未访问的'1'时，岛屿计数加1；\n",
    "3.DFS标记：递归或迭代访问当前陆地的上下左右四个方向，将所有相连的'1'标记为'0'，避免重复计数。\n",
    "\n",
    "时间复杂度：\n",
    "遍历所有单元格：每个单元格被访问一次，时间复杂度为O(mn)，其中m为行数，n为列数。DFS操作：每个陆地单元格仅处理一次，总时间复杂度保持O(mn)。\n",
    "\"\"\"\n",
    "def numIslands(grid):\n",
    "    if not grid:\n",
    "        return 0\n",
    "\n",
    "    rows = len(grid)\n",
    "    cols = len(grid[0])\n",
    "    count = 0\n",
    "\n",
    "    def dfs(i, j):\n",
    "        if i < 0 or j < 0 or i >= rows or j >= cols or grid[i][j] != '1':\n",
    "            return\n",
    "        grid[i][j] = '0'  # 标记为已访问\n",
    "        dfs(i + 1, j)\n",
    "        dfs(i - 1, j)\n",
    "        dfs(i, j + 1)\n",
    "        dfs(i, j - 1)\n",
    "\n",
    "    for i in range(rows):\n",
    "        for j in range(cols):\n",
    "            if grid[i][j] == '1':\n",
    "                dfs(i, j)\n",
    "                count += 1\n",
    "    return count\n",
    "\n",
    "grid1 = [\n",
    "    ['1', '1', '1', '1', '0'],\n",
    "    ['1', '1', '0', '1', '0'],\n",
    "    ['1', '1', '0', '0', '0'],\n",
    "    ['0', '0', '0', '0', '0']\n",
    "]\n",
    "print(numIslands(grid1))\n",
    "\n",
    "grid2 = [\n",
    "    ['1', '1', '0', '0', '0'],\n",
    "    ['1', '1', '0', '0', '0'],\n",
    "    ['0', '0', '1', '0', '0'],\n",
    "    ['0', '0', '0', '1', '1']\n",
    "]\n",
    "print(numIslands(grid2))"
   ],
   "outputs": [
    {
     "name": "stdout",
     "output_type": "stream",
     "text": [
      "1\n",
      "3\n"
     ]
    }
   ],
   "execution_count": 13
  }
 ],
 "metadata": {
  "language_info": {
   "name": "python"
  }
 },
 "nbformat": 4,
 "nbformat_minor": 2
}
